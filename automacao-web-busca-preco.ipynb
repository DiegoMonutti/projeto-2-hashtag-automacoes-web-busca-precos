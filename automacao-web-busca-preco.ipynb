{
 "cells": [
  {
   "cell_type": "code",
   "execution_count": 1,
   "metadata": {},
   "outputs": [],
   "source": [
    "import pandas as pd\n",
    "import time\n",
    "from selenium import webdriver\n",
    "from selenium.webdriver.chrome.service import Service\n",
    "from webdriver_manager.chrome import ChromeDriverManager\n",
    "from selenium.webdriver.common.by import By\n",
    "from selenium.webdriver.support.ui import WebDriverWait\n",
    "from selenium.webdriver.support import expected_conditions as EC\n",
    "\n",
    "servico = Service(ChromeDriverManager().install())\n",
    "navegador = webdriver.Chrome(service=servico)"
   ]
  },
  {
   "cell_type": "code",
   "execution_count": 2,
   "metadata": {},
   "outputs": [
    {
     "data": {
      "text/html": [
       "<div>\n",
       "<style scoped>\n",
       "    .dataframe tbody tr th:only-of-type {\n",
       "        vertical-align: middle;\n",
       "    }\n",
       "\n",
       "    .dataframe tbody tr th {\n",
       "        vertical-align: top;\n",
       "    }\n",
       "\n",
       "    .dataframe thead th {\n",
       "        text-align: right;\n",
       "    }\n",
       "</style>\n",
       "<table border=\"1\" class=\"dataframe\">\n",
       "  <thead>\n",
       "    <tr style=\"text-align: right;\">\n",
       "      <th></th>\n",
       "      <th>Nome</th>\n",
       "      <th>Termos banidos</th>\n",
       "      <th>Preço mínimo</th>\n",
       "      <th>Preço máximo</th>\n",
       "    </tr>\n",
       "  </thead>\n",
       "  <tbody>\n",
       "    <tr>\n",
       "      <th>0</th>\n",
       "      <td>iphone 12 64gb</td>\n",
       "      <td>mini watch</td>\n",
       "      <td>3000</td>\n",
       "      <td>3500</td>\n",
       "    </tr>\n",
       "    <tr>\n",
       "      <th>1</th>\n",
       "      <td>rtx 3060</td>\n",
       "      <td>zota galax</td>\n",
       "      <td>4000</td>\n",
       "      <td>4500</td>\n",
       "    </tr>\n",
       "  </tbody>\n",
       "</table>\n",
       "</div>"
      ],
      "text/plain": [
       "             Nome Termos banidos  Preço mínimo  Preço máximo\n",
       "0  iphone 12 64gb     mini watch          3000          3500\n",
       "1        rtx 3060     zota galax          4000          4500"
      ]
     },
     "metadata": {},
     "output_type": "display_data"
    }
   ],
   "source": [
    "#Carregar a tabela de buscas de produtos:\n",
    "produtos_df = pd.read_excel(r'Base de Buscas\\buscas.xlsx')\n",
    "display(produtos_df)"
   ]
  },
  {
   "cell_type": "code",
   "execution_count": 3,
   "metadata": {},
   "outputs": [],
   "source": [
    "#Abrir o site do Google Shopping:\n",
    "navegador.get(\"https://shopping.google.com.br/\")"
   ]
  },
  {
   "cell_type": "code",
   "execution_count": 4,
   "metadata": {},
   "outputs": [],
   "source": [
    "#Buscar o produto:\n",
    "navegador.find_element(By.ID, 'REsRA').send_keys(produtos_df.loc[0, 'Nome'])\n",
    "navegador.find_element(By.CLASS_NAME, 'uDgUL').click()"
   ]
  },
  {
   "cell_type": "code",
   "execution_count": 5,
   "metadata": {},
   "outputs": [],
   "source": [
    "preco_minimo = float(produtos_df.loc[0, 'Preço mínimo'])\n",
    "preco_maximo = float(produtos_df.loc[0, 'Preço máximo'])"
   ]
  },
  {
   "cell_type": "code",
   "execution_count": 6,
   "metadata": {},
   "outputs": [
    {
     "name": "stdout",
     "output_type": "stream",
     "text": [
      "Todas as páginas percorridas\n",
      "[('vitrine: iphone 12 apple 64gb roxo tela 61 câmera traseira 12mp ios', '3286.05', 'https://www.carrefour.com.br/vitrine-iphone-12-apple-64gb-roxo-tela-61-camera-traseira-12mp-ios-mp932337971/p&rct=j&q=&esrc=s&sa=U&ved=0ahUKEwj3lb6zqb7-AhUkt5UCHfUtDL0Q1SkIxQwoAA&usg=AOvVaw33AbamGnEuRnEeaNdrVKTI'), ('vitrine apple iphone 12 64gb - pagamento boleto', '3275.09', 'https://produto.mercadolivre.com.br/MLB-3273228609-vitrine-apple-iphone-12-64gb-promoco-pagamento-boleto-_JM%3Fmatt_tool%3D18956390%26utm_source%3Dgoogle_shopping%26utm_medium%3Dorganic&rct=j&q=&esrc=s&sa=U&ved=0ahUKEwj3lb6zqb7-AhUkt5UCHfUtDL0Q1SkI1QwoAA&usg=AOvVaw2H2lQi2GaGF5D7q6ehpppw'), ('iphone 12 64gb - azul - estou zerado', '3059.10', 'https://www.google.com.br/shopping/product/357344828079836893?hl=pt-BR&psb=1&q=iphone+12+64gb&oq=iphone+12+64gb&gs_lcp=Cgtwcm9kdWN0cy1jYxAMUA5YKGBIaAFwAHgAgAEAiAEAkgEAmAEAoAEBsAEA&sclient=products-cc&prds=eto:10360267435465518254_0,pid:4387230182954649532,rsk:PC_11630641001267601036&sa=X&ved=0ahUKEwj3lb6zqb7-AhUkt5UCHfUtDL0Q8gII5AwoAA'), ('vitrine: iphone 12 apple 64gb azul tela 61 câmera traseira dupla 12mp', '3286.05', 'https://www.google.com.br/shopping/product/17015131505985528838?hl=pt-BR&psb=1&q=iphone+12+64gb&oq=iphone+12+64gb&gs_lcp=Cgtwcm9kdWN0cy1jYxAMUA5YKGBIaAFwAHgAgAEAiAEAkgEAmAEAoAEBsAEA&sclient=products-cc&prds=eto:13243968373558901859_0,pid:16143677003117765046,rsk:PC_14074616196041694734&sa=X&ved=0ahUKEwj3lb6zqb7-AhUkt5UCHfUtDL0Q8gII9wwoAA'), ('vitrine: iphone 12 apple 64gb preto tela 61 câmera traseira dupla 12mp ios', '3286.05', 'https://www.google.com.br/shopping/product/10731725505291757596?hl=pt-BR&psb=1&q=iphone+12+64gb&oq=iphone+12+64gb&gs_lcp=Cgtwcm9kdWN0cy1jYxAMUA5YKGBIaAFwAHgAgAEAiAEAkgEAmAEAoAEBsAEA&sclient=products-cc&prds=eto:2441934400410085411_0,pid:16674502977534662409,rsk:PC_14074616196041694734&sa=X&ved=0ahUKEwj3lb6zqb7-AhUkt5UCHfUtDL0Q8gIImw0oAA'), ('iphone 12 64gb - roxo - estou zerado', '3059.10', 'https://www.google.com.br/shopping/product/1409198851555036304?hl=pt-BR&psb=1&q=iphone+12+64gb&oq=iphone+12+64gb&gs_lcp=Cgtwcm9kdWN0cy1jYxAMUA5YKGBIaAFwAHgAgAEAiAEAkgEAmAEAoAEBsAEA&sclient=products-cc&prds=eto:14066938966366365827_0,pid:5070126177312031027,rsk:PROD_VAR_925660058154905600&sa=X&ved=0ahUKEwj3lb6zqb7-AhUkt5UCHfUtDL0Q8gIIrA0oAA'), ('usado: iphone 12 64gb preto bom - trocafone', '3112.73', 'https://www.carrefour.com.br/usado-iphone-12-64gb-preto-bom-trocafone-mp930839701/p&rct=j&q=&esrc=s&sa=U&ved=0ahUKEwj3lb6zqb7-AhUkt5UCHfUtDL0Q1SkIvQ0oAA&usg=AOvVaw2A0o2-l3tyb7PzYGpE9ut-'), ('iphone 12 64gb - preto - estou zerado', '3059.10', 'https://www.google.com.br/shopping/product/925660058154905741?hl=pt-BR&psb=1&q=iphone+12+64gb&oq=iphone+12+64gb&gs_lcp=Cgtwcm9kdWN0cy1jYxAMUA5YKGBIaAFwAHgAgAEAiAEAkgEAmAEAoAEBsAEA&sclient=products-cc&prds=eto:3327467532283076065_0,pid:17698061794397978400,rsk:PROD_VAR_925660058154905600&sa=X&ved=0ahUKEwj3lb6zqb7-AhUkt5UCHfUtDL0Q8gII3g0oAA'), ('iphone 12 64gb roxo - swap', '3098.00', 'https://www.malibushop.com.br/iphones-semi-novos/iphones-swap/iphone-12-64gb-roxo-swap%3Fparceiro%3D1538%26srsltid%3DAfAwrE5HgrHbr0G3COGenFO53i-FlocTzKtutlNNQ368hJyPGcj6aSERA5o&rct=j&q=&esrc=s&sa=U&ved=0ahUKEwj3lb6zqb7-AhUkt5UCHfUtDL0Q1SkI8Q8oAA&usg=AOvVaw0fd9x52RISo_ogmVaU5vA8'), ('(seminovo) iphone 12 apple verde 64gb', '3144.15', 'https://www.taqi.com.br/seminovo-apple-iphone-12-64gb-verde-taqi/222821%3Fsrsltid%3DAfAwrE6hZDN-5asOFOz7DyFr4E88lxbvbRT4x29Ml707xYuLN-1t66va_zA&rct=j&q=&esrc=s&sa=U&ved=0ahUKEwj3lb6zqb7-AhUkt5UCHfUtDL0Q1SkIsRAoAA&usg=AOvVaw1uaiAwGwuAZ-SuKsSSowmW'), ('(seminovo) iphone 12 apple preto 64gb', '3144.15', 'https://www.taqi.com.br/seminovo-usado-apple-iphone-12-preto-nacional/221635%3Fsrsltid%3DAfAwrE4u_wugve_LJLCNkcxsE1rDG6gb4UgfPue0oyRyfKDnfOQPc2Uyr4s&rct=j&q=&esrc=s&sa=U&ved=0ahUKEwj3lb6zqb7-AhUkt5UCHfUtDL0Q1SkIsBEoAA&usg=AOvVaw12HoeeGDce_R1yY0fsMSHO'), ('iphone 12 64gb azul - swap', '3098.00', 'https://www.malibushop.com.br/iphones-semi-novos/iphones-swap/iphone-12-64gb-azul-swap%3Fparceiro%3D1538%26srsltid%3DAfAwrE5bt1Pga9w_VOVu2XiSUlXxgKF3jzuei96sEAv7RQHiL7M_AZ-mzsc&rct=j&q=&esrc=s&sa=U&ved=0ahUKEwj3lb6zqb7-AhUkt5UCHfUtDL0Q1SkIqRIoAA&usg=AOvVaw1rPU_Bhyso_Y3X6t749jTe'), ('iphone 12 64gb preto - swap', '3098.00', 'https://www.malibushop.com.br/iphones-semi-novos/iphones-swap/iphone-12-64gb-preto-swap%3Fparceiro%3D1538%26srsltid%3DAfAwrE5rPo6ADIzeO3BAMOo6J_s0XZBmgV-KBlhSn_XbLJVn_e_q0nBJCFI&rct=j&q=&esrc=s&sa=U&ved=0ahUKEwj3lb6zqb7-AhUkt5UCHfUtDL0Q1SkI0hMoAA&usg=AOvVaw0mXTkeJ1no7tvTefJ5Iymp'), ('(seminovo) iphone 12 apple azul 64gb', '3144.15', 'https://www.taqi.com.br/seminovo-iphone12-apple-azul64gb-nacional/220673%3Fsrsltid%3DAfAwrE58QhEoeH0ylMTzcWkiVjL5YmULXboeECuSXc2dos_oiIYKIAFlOQ0&rct=j&q=&esrc=s&sa=U&ved=0ahUKEwj8vuO1qb7-AhW-qpUCHfMTBY04PBDVKQi9DCgA&usg=AOvVaw2qJrB2SxbA7zVhBV5alP5g'), ('iphone xr 64gb branco com tela de 61 4g e câmera de 12 mp - mh6n3br/a', '3059.15', 'https://www.google.com.br/shopping/product/7578846592293227918?q=iphone+12+64gb&hl=pt-BR&psb=1&biw=1034&bih=707&prds=eto:419100260293419769_0,pid:12290781261691180637,rsk:PC_15653290272112071452&sa=X&ved=0ahUKEwj8vuO1qb7-AhW-qpUCHfMTBY04PBDyAgjbDigA'), ('(seminovo) iphone 12 apple branco 64gb', '3144.15', 'https://www.taqi.com.br/seminovo-apple-iphone12-64gb-internacional-taqi/222815%3Fsrsltid%3DAfAwrE4LIhLa0bx3SBaPIoFFOplmVtckaw-XgekVpZdKboH66s2VER0zIhE&rct=j&q=&esrc=s&sa=U&ved=0ahUKEwj8vuO1qb7-AhW-qpUCHfMTBY04PBDVKQj0DygA&usg=AOvVaw0ynJfiuDfZ84rIePzvTSrb'), ('(seminovo) iphone 12 apple (product)red  64gb', '3144.15', 'https://www.taqi.com.br/seminovo-apple-iphone-12-64gb-productred/221656%3Fsrsltid%3DAfAwrE4fx8Gv3OYKmgrcBgRImaA-nyD4BfWtJjnWSmviqEpiFiLpOPFSO88&rct=j&q=&esrc=s&sa=U&ved=0ahUKEwj8vuO1qb7-AhW-qpUCHfMTBY04PBDVKQibESgA&usg=AOvVaw3ZKsU-f-GlRE4XUULHiX1i'), ('iphone 12 64gb branco - swap', '3098.00', 'https://www.malibushop.com.br/iphones-semi-novos/iphones-swap/iphone-12-64gb-branco-swap%3Fparceiro%3D1538%26srsltid%3DAfAwrE5y_Ob-tJ-yXChXT5MBEzNrzjLgG1uuh8VAFHngP8GXufItz3xxGRM&rct=j&q=&esrc=s&sa=U&ved=0ahUKEwj8vuO1qb7-AhW-qpUCHfMTBY04PBDVKQj3ESgA&usg=AOvVaw0Rn4KygZ0I_OPgGWbwIrZG'), ('apple iphone 12 64gb azul vitrine 10x /juros', '3499.20', 'https://produto.mercadolivre.com.br/MLB-3460983776-apple-iphone-12-64gb-azul-vitrine-10x-juros-_JM%3Fmatt_tool%3D18956390%26utm_source%3Dgoogle_shopping%26utm_medium%3Dorganic&rct=j&q=&esrc=s&sa=U&ved=0ahUKEwj_iI64qb7-AhW-ppUCHQORBZQ4eBDVKQiZESgA&usg=AOvVaw0ybJbvEgaPj9fGtxJu2DiA')]\n"
     ]
    }
   ],
   "source": [
    "lista_ofertas_google = []\n",
    "\n",
    "while True:\n",
    "    # Aguardar a presença do elemento 'sh-dgr__content' antes de prosseguir:\n",
    "    WebDriverWait(navegador, 10).until(EC.presence_of_element_located((By.CLASS_NAME, 'sh-dgr__content')))\n",
    "    time.sleep(1)\n",
    "    \n",
    "    #Pegar todos os produtos da página:\n",
    "    lista_produtos = navegador.find_elements(By.CLASS_NAME, 'sh-dgr__content')\n",
    "    \n",
    "    for produto in lista_produtos:\n",
    "        #Obter os dados dos produtos:\n",
    "        nome_produto = produto.find_element(By.TAG_NAME, 'h3').text.lower().replace(',','')\n",
    "        preco_produto = produto.find_element(By.CLASS_NAME, 'kHxwFf').text.split(\" \")\n",
    "        preco_produto = preco_produto[1].replace('\\nR$', '').replace('.', '').replace(',', '.')\n",
    "        \n",
    "        #Filtrar pelos dados da busca:\n",
    "        lista_termos_produto = produtos_df.loc[0, 'Nome'].lower().split(\" \")\n",
    "        lista_termos_banidos = produtos_df.loc[0, 'Termos banidos'].lower().split(\" \")\n",
    "\n",
    "        termo_prod_correto = all(termo in nome_produto for termo in lista_termos_produto)\n",
    "        if 'iphone 11' in nome_produto:\n",
    "            termo_prod_correto = False\n",
    "        termo_banido_encontrado = any(termo in nome_produto for termo in lista_termos_banidos)\n",
    "\n",
    "        if termo_prod_correto and not termo_banido_encontrado:\n",
    "            if preco_minimo <= float(preco_produto) <= preco_maximo:\n",
    "                link_produto = produto.find_element(By.TAG_NAME, 'a').get_attribute('href')\n",
    "                link_produto = link_produto.replace('https://www.google.com.br/url?url=', '')\n",
    "                lista_ofertas_google.append((nome_produto, preco_produto, link_produto))\n",
    "    try:\n",
    "        # Tentar clicar no botão \"Mais\"\n",
    "        proxima_pag = navegador.find_element(By.LINK_TEXT, 'Mais')\n",
    "        proxima_pag.click()\n",
    "    except:\n",
    "        # Caso não haja mais botão \"Mais\", encerrar o loop\n",
    "        print('Todas as páginas percorridas')\n",
    "        break\n",
    "\n",
    "print(lista_ofertas_google)"
   ]
  }
 ],
 "metadata": {
  "kernelspec": {
   "display_name": "base",
   "language": "python",
   "name": "python3"
  },
  "language_info": {
   "codemirror_mode": {
    "name": "ipython",
    "version": 3
   },
   "file_extension": ".py",
   "mimetype": "text/x-python",
   "name": "python",
   "nbconvert_exporter": "python",
   "pygments_lexer": "ipython3",
   "version": "3.9.13"
  },
  "orig_nbformat": 4
 },
 "nbformat": 4,
 "nbformat_minor": 2
}
