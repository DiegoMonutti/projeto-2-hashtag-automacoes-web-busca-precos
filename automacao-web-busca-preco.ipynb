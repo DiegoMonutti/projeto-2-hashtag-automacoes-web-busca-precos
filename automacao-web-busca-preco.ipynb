{
 "cells": [
  {
   "cell_type": "code",
   "execution_count": 7,
   "metadata": {},
   "outputs": [],
   "source": [
    "import pandas as pd\n",
    "import time\n",
    "from selenium import webdriver\n",
    "from selenium.webdriver.chrome.service import Service\n",
    "from webdriver_manager.chrome import ChromeDriverManager\n",
    "from selenium.webdriver.common.by import By\n",
    "\n",
    "servico = Service(ChromeDriverManager().install())\n",
    "navegador = webdriver.Chrome(service=servico)"
   ]
  },
  {
   "cell_type": "code",
   "execution_count": 8,
   "metadata": {},
   "outputs": [
    {
     "data": {
      "text/html": [
       "<div>\n",
       "<style scoped>\n",
       "    .dataframe tbody tr th:only-of-type {\n",
       "        vertical-align: middle;\n",
       "    }\n",
       "\n",
       "    .dataframe tbody tr th {\n",
       "        vertical-align: top;\n",
       "    }\n",
       "\n",
       "    .dataframe thead th {\n",
       "        text-align: right;\n",
       "    }\n",
       "</style>\n",
       "<table border=\"1\" class=\"dataframe\">\n",
       "  <thead>\n",
       "    <tr style=\"text-align: right;\">\n",
       "      <th></th>\n",
       "      <th>Nome</th>\n",
       "      <th>Termos banidos</th>\n",
       "      <th>Preço mínimo</th>\n",
       "      <th>Preço máximo</th>\n",
       "    </tr>\n",
       "  </thead>\n",
       "  <tbody>\n",
       "    <tr>\n",
       "      <th>0</th>\n",
       "      <td>iphone 12 64gb</td>\n",
       "      <td>mini watch</td>\n",
       "      <td>3000</td>\n",
       "      <td>3500</td>\n",
       "    </tr>\n",
       "    <tr>\n",
       "      <th>1</th>\n",
       "      <td>rtx 3060</td>\n",
       "      <td>zota galax</td>\n",
       "      <td>4000</td>\n",
       "      <td>4500</td>\n",
       "    </tr>\n",
       "  </tbody>\n",
       "</table>\n",
       "</div>"
      ],
      "text/plain": [
       "             Nome Termos banidos  Preço mínimo  Preço máximo\n",
       "0  iphone 12 64gb     mini watch          3000          3500\n",
       "1        rtx 3060     zota galax          4000          4500"
      ]
     },
     "metadata": {},
     "output_type": "display_data"
    }
   ],
   "source": [
    "#Carregar a tabela de buscas de produtos:\n",
    "produtos_df = pd.read_excel(r'Base de Buscas\\buscas.xlsx')\n",
    "display(produtos_df)"
   ]
  },
  {
   "cell_type": "code",
   "execution_count": 9,
   "metadata": {},
   "outputs": [],
   "source": [
    "#Abrir o site do Google Shopping:\n",
    "navegador.get(\"https://shopping.google.com.br/\")"
   ]
  },
  {
   "cell_type": "code",
   "execution_count": 10,
   "metadata": {},
   "outputs": [],
   "source": [
    "#Buscar o produto:\n",
    "navegador.find_element(By.ID, 'REsRA').send_keys(produtos_df.loc[0, 'Nome'])\n",
    "navegador.find_element(By.CLASS_NAME, 'uDgUL').click()"
   ]
  },
  {
   "cell_type": "code",
   "execution_count": 11,
   "metadata": {},
   "outputs": [],
   "source": [
    "preco_minimo = float(produtos_df.loc[0, 'Preço mínimo'])\n",
    "preco_maximo = float(produtos_df.loc[0, 'Preço máximo'])"
   ]
  },
  {
   "cell_type": "code",
   "execution_count": 12,
   "metadata": {},
   "outputs": [
    {
     "name": "stdout",
     "output_type": "stream",
     "text": [
      "[('vitrine: iphone 12 apple 64gb roxo tela 61 câmera traseira 12mp ios', '3286.05', 'https://www.google.com.br/url?url=https://www.carrefour.com.br/vitrine-iphone-12-apple-64gb-roxo-tela-61-camera-traseira-12mp-ios-mp932337971/p&rct=j&q=&esrc=s&sa=U&ved=0ahUKEwj7172no77-AhWDrZUCHfGZANkQ1SkItQwoAA&usg=AOvVaw1USPJHSB6JcAVhrFM4DrE5'), ('iphone 12 64gb - roxo - estou zerado', '3059.10', 'https://www.google.com.br/shopping/product/1409198851555036304?hl=pt-BR&psb=1&q=iphone+12+64gb&oq=iphone+12+64gb&gs_lcp=Cgtwcm9kdWN0cy1jYxAMUA1YKGBIaAFwAHgAgAEAiAEAkgEAmAEAoAEBsAEA&sclient=products-cc&prds=eto:14066938966366365827_0,pid:5070126177312031027,rsk:PROD_VAR_925660058154905600&sa=X&ved=0ahUKEwj7172no77-AhWDrZUCHfGZANkQ8gIIxQwoAA'), ('vitrine: iphone 12 apple 64gb preto tela 61 câmera traseira dupla 12mp ios', '3286.05', 'https://www.google.com.br/shopping/product/10731725505291757596?hl=pt-BR&psb=1&q=iphone+12+64gb&oq=iphone+12+64gb&gs_lcp=Cgtwcm9kdWN0cy1jYxAMUA1YKGBIaAFwAHgAgAEAiAEAkgEAmAEAoAEBsAEA&sclient=products-cc&prds=eto:2441934400410085411_0,pid:16674502977534662409,rsk:PC_14074616196041694734&sa=X&ved=0ahUKEwj7172no77-AhWDrZUCHfGZANkQ8gII2AwoAA'), ('vitrine apple iphone 12 64gb - pagamento boleto', '3275.09', 'https://www.google.com.br/url?url=https://produto.mercadolivre.com.br/MLB-3273228609-vitrine-apple-iphone-12-64gb-promoco-pagamento-boleto-_JM%3Fmatt_tool%3D18956390%26utm_source%3Dgoogle_shopping%26utm_medium%3Dorganic&rct=j&q=&esrc=s&sa=U&ved=0ahUKEwj7172no77-AhWDrZUCHfGZANkQ1SkI-gwoAA&usg=AOvVaw2oY1tF3dWwEEgtSF4v6ajm'), ('iphone 12 64gb - azul - estou zerado', '3059.10', 'https://www.google.com.br/shopping/product/357344828079836893?hl=pt-BR&psb=1&q=iphone+12+64gb&oq=iphone+12+64gb&gs_lcp=Cgtwcm9kdWN0cy1jYxAMUA1YKGBIaAFwAHgAgAEAiAEAkgEAmAEAoAEBsAEA&sclient=products-cc&prds=eto:10360267435465518254_0,pid:4387230182954649532,rsk:PC_11630641001267601036&sa=X&ved=0ahUKEwj7172no77-AhWDrZUCHfGZANkQ8gIIiQ0oAA'), ('vitrine: iphone 12 apple 64gb azul tela 61 câmera traseira dupla 12mp', '3286.05', 'https://www.google.com.br/shopping/product/17015131505985528838?hl=pt-BR&psb=1&q=iphone+12+64gb&oq=iphone+12+64gb&gs_lcp=Cgtwcm9kdWN0cy1jYxAMUA1YKGBIaAFwAHgAgAEAiAEAkgEAmAEAoAEBsAEA&sclient=products-cc&prds=eto:13243968373558901859_0,pid:16143677003117765046,rsk:PC_14074616196041694734&sa=X&ved=0ahUKEwj7172no77-AhWDrZUCHfGZANkQ8gIInA0oAA'), ('usado: iphone 12 64gb preto bom - trocafone', '3112.73', 'https://www.google.com.br/url?url=https://www.carrefour.com.br/usado-iphone-12-64gb-preto-bom-trocafone-mp930839701/p&rct=j&q=&esrc=s&sa=U&ved=0ahUKEwj7172no77-AhWDrZUCHfGZANkQ1SkIrQ0oAA&usg=AOvVaw0QCEsLfDTlHBlEQs75P-k-'), ('iphone 12 64gb - verde - estou zerado', '3059.10', 'https://www.google.com.br/shopping/product/16648849046115460918?hl=pt-BR&psb=1&q=iphone+12+64gb&oq=iphone+12+64gb&gs_lcp=Cgtwcm9kdWN0cy1jYxAMUA1YKGBIaAFwAHgAgAEAiAEAkgEAmAEAoAEBsAEA&sclient=products-cc&prds=eto:939305898179491812_0,pid:14035193460107516903,rsk:PROD_VAR_925660058154905600&sa=X&ved=0ahUKEwj7172no77-AhWDrZUCHfGZANkQ8gIIzw0oAA'), ('iphone 12 64gb roxo - swap', '3098.00', 'https://www.google.com.br/url?url=https://www.malibushop.com.br/iphones-semi-novos/iphones-swap/iphone-12-64gb-roxo-swap%3Fparceiro%3D1538%26srsltid%3DAfAwrE5RpvV9vZab2WAneNWjOppTL3R8BFofhGcELgT550NIkm2Yc89Ie5Q&rct=j&q=&esrc=s&sa=U&ved=0ahUKEwj7172no77-AhWDrZUCHfGZANkQ1SkIxg4oAA&usg=AOvVaw25tkYbkn1_8l5BoX2PQ5cl'), ('(seminovo) iphone 12 apple preto 64gb', '3144.15', 'https://www.google.com.br/url?url=https://www.taqi.com.br/seminovo-usado-apple-iphone-12-preto-nacional/221635%3Fsrsltid%3DAfAwrE7scryyO6xujgHAZXDmLYIgjnFW7aFomj4jCn8udvHZZ3KiYuyZh1w&rct=j&q=&esrc=s&sa=U&ved=0ahUKEwj7172no77-AhWDrZUCHfGZANkQ1SkI0Q8oAA&usg=AOvVaw3g-YIsy-2zItWXODeDJNNz'), ('iphone 12 64gb preto - swap', '3098.00', 'https://www.google.com.br/url?url=https://www.malibushop.com.br/iphones-semi-novos/iphones-swap/iphone-12-64gb-preto-swap%3Fparceiro%3D1538%26srsltid%3DAfAwrE4JpWQOj5wpN8kpau6sWPZiMfnXeVQpknGbClRqDh6rbjPBgr9SCiw&rct=j&q=&esrc=s&sa=U&ved=0ahUKEwj7172no77-AhWDrZUCHfGZANkQ1SkIghAoAA&usg=AOvVaw2D2hlIM0aHE1S2I9ND14LF'), ('(seminovo) iphone 12 apple azul 64gb', '3144.15', 'https://www.google.com.br/url?url=https://www.taqi.com.br/seminovo-iphone12-apple-azul64gb-nacional/220673%3Fsrsltid%3DAfAwrE6BmB57VroSr_SGq09c5Ear9rIuy_AoXgH5iYfPN2hUuVRGQnOCWGg&rct=j&q=&esrc=s&sa=U&ved=0ahUKEwj7172no77-AhWDrZUCHfGZANkQ1SkI1xIoAA&usg=AOvVaw1B-vL2DjEfWEVCsvau_nit')]\n"
     ]
    }
   ],
   "source": [
    "lista_ofertas_google = []\n",
    "\n",
    "#Pegar todos os produtos da página:\n",
    "lista_produtos = navegador.find_elements(By.CLASS_NAME, 'sh-dgr__content')\n",
    "\n",
    "for produto in lista_produtos:\n",
    "    #Obter os dados dos produtos:\n",
    "    nome_produto = produto.find_element(By.TAG_NAME, 'h3').text.lower().replace(',','')\n",
    "    preco_produto = produto.find_element(By.CLASS_NAME, 'kHxwFf').text.split(\" \")\n",
    "    preco_produto = preco_produto[1].replace('\\nR$', '').replace('.', '').replace(',', '.')\n",
    "    \n",
    "    #Filtrar pelos dados da busca:\n",
    "    lista_termos_produto = produtos_df.loc[0, 'Nome'].lower().split(\" \")\n",
    "    lista_termos_banidos = produtos_df.loc[0, 'Termos banidos'].lower().split(\" \")\n",
    "\n",
    "    termo_prod_correto = all(termo in nome_produto for termo in lista_termos_produto)\n",
    "\n",
    "    termo_banido_encontrado = any(termo in nome_produto for termo in lista_termos_banidos)\n",
    "\n",
    "    if termo_prod_correto and not termo_banido_encontrado:\n",
    "        if preco_minimo <= float(preco_produto) <= preco_maximo:\n",
    "            link_produto = produto.find_element(By.TAG_NAME, 'a').get_attribute('href')\n",
    "            lista_ofertas_google.append((nome_produto, preco_produto, link_produto))\n",
    "\n",
    "print(lista_ofertas_google)"
   ]
  }
 ],
 "metadata": {
  "kernelspec": {
   "display_name": "base",
   "language": "python",
   "name": "python3"
  },
  "language_info": {
   "codemirror_mode": {
    "name": "ipython",
    "version": 3
   },
   "file_extension": ".py",
   "mimetype": "text/x-python",
   "name": "python",
   "nbconvert_exporter": "python",
   "pygments_lexer": "ipython3",
   "version": "3.9.13"
  },
  "orig_nbformat": 4
 },
 "nbformat": 4,
 "nbformat_minor": 2
}
