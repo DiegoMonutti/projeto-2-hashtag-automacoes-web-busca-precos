{
 "cells": [
  {
   "cell_type": "code",
   "execution_count": 1,
   "metadata": {},
   "outputs": [],
   "source": [
    "import pandas as pd\n",
    "import time\n",
    "from selenium import webdriver\n",
    "from selenium.webdriver.chrome.service import Service\n",
    "from webdriver_manager.chrome import ChromeDriverManager\n",
    "from selenium.webdriver.common.by import By\n",
    "from selenium.webdriver.support.ui import WebDriverWait\n",
    "from selenium.webdriver.support import expected_conditions as EC\n",
    "\n",
    "servico = Service(ChromeDriverManager().install())\n",
    "navegador = webdriver.Chrome(service=servico)"
   ]
  },
  {
   "cell_type": "code",
   "execution_count": 2,
   "metadata": {},
   "outputs": [
    {
     "data": {
      "text/html": [
       "<div>\n",
       "<style scoped>\n",
       "    .dataframe tbody tr th:only-of-type {\n",
       "        vertical-align: middle;\n",
       "    }\n",
       "\n",
       "    .dataframe tbody tr th {\n",
       "        vertical-align: top;\n",
       "    }\n",
       "\n",
       "    .dataframe thead th {\n",
       "        text-align: right;\n",
       "    }\n",
       "</style>\n",
       "<table border=\"1\" class=\"dataframe\">\n",
       "  <thead>\n",
       "    <tr style=\"text-align: right;\">\n",
       "      <th></th>\n",
       "      <th>Nome</th>\n",
       "      <th>Termos banidos</th>\n",
       "      <th>Preço mínimo</th>\n",
       "      <th>Preço máximo</th>\n",
       "    </tr>\n",
       "  </thead>\n",
       "  <tbody>\n",
       "    <tr>\n",
       "      <th>0</th>\n",
       "      <td>iphone 12 64gb</td>\n",
       "      <td>mini watch</td>\n",
       "      <td>3000</td>\n",
       "      <td>3500</td>\n",
       "    </tr>\n",
       "    <tr>\n",
       "      <th>1</th>\n",
       "      <td>rtx 3060</td>\n",
       "      <td>zota galax</td>\n",
       "      <td>4000</td>\n",
       "      <td>4500</td>\n",
       "    </tr>\n",
       "  </tbody>\n",
       "</table>\n",
       "</div>"
      ],
      "text/plain": [
       "             Nome Termos banidos  Preço mínimo  Preço máximo\n",
       "0  iphone 12 64gb     mini watch          3000          3500\n",
       "1        rtx 3060     zota galax          4000          4500"
      ]
     },
     "metadata": {},
     "output_type": "display_data"
    }
   ],
   "source": [
    "#Carregar a tabela de buscas de produtos:\n",
    "produtos_df = pd.read_excel(r'Base de Buscas\\buscas.xlsx')\n",
    "display(produtos_df)"
   ]
  },
  {
   "cell_type": "code",
   "execution_count": 3,
   "metadata": {},
   "outputs": [],
   "source": [
    "#Abrir o site do Google Shopping:\n",
    "navegador.get(\"https://shopping.google.com.br/\")"
   ]
  },
  {
   "cell_type": "code",
   "execution_count": 4,
   "metadata": {},
   "outputs": [],
   "source": [
    "#Buscar o produto:\n",
    "navegador.find_element(By.ID, 'REsRA').send_keys(produtos_df.loc[0, 'Nome'])\n",
    "navegador.find_element(By.CLASS_NAME, 'uDgUL').click()"
   ]
  },
  {
   "cell_type": "code",
   "execution_count": 5,
   "metadata": {},
   "outputs": [],
   "source": [
    "preco_minimo = float(produtos_df.loc[0, 'Preço mínimo'])\n",
    "preco_maximo = float(produtos_df.loc[0, 'Preço máximo'])"
   ]
  },
  {
   "cell_type": "code",
   "execution_count": 6,
   "metadata": {},
   "outputs": [
    {
     "name": "stdout",
     "output_type": "stream",
     "text": [
      "Todas as páginas percorridas\n",
      "[('vitrine: iphone 12 apple 64gb roxo tela 61 câmera traseira 12mp ios', '3295.55', 'https://www.carrefour.com.br/vitrine-iphone-12-apple-64gb-roxo-tela-61-camera-traseira-12mp-ios-mp932337971/p&rct=j&q=&esrc=s&sa=U&ved=0ahUKEwj1197MjMP-AhVAHbkGHSMABAUQ1SkIpwwoAA&usg=AOvVaw02f2uTlYjozoiTpzzsg1L4'), ('iphone 12 64gb - azul - estou zerado', '3059.10', 'https://www.google.com.br/shopping/product/357344828079836893?hl=pt-BR&psb=1&q=iphone+12+64gb&oq=iphone+12+64gb&gs_lcp=Cgtwcm9kdWN0cy1jYxAMUA1YKGBRaAFwAHgAgAEAiAEAkgEAmAEAoAEBsAEA&sclient=products-cc&prds=eto:10360267435465518254_0,pid:4387230182954649532,rsk:PC_11630641001267601036&sa=X&ved=0ahUKEwj1197MjMP-AhVAHbkGHSMABAUQ8gIItwwoAA'), ('vitrine: iphone 12 apple 64gb azul tela 61 câmera traseira dupla 12mp', '3286.05', 'https://www.google.com.br/shopping/product/17015131505985528838?hl=pt-BR&psb=1&q=iphone+12+64gb&oq=iphone+12+64gb&gs_lcp=Cgtwcm9kdWN0cy1jYxAMUA1YKGBRaAFwAHgAgAEAiAEAkgEAmAEAoAEBsAEA&sclient=products-cc&prds=eto:13243968373558901859_0,pid:16143677003117765046,rsk:PC_14074616196041694734&sa=X&ved=0ahUKEwj1197MjMP-AhVAHbkGHSMABAUQ8gII2wwoAA'), ('iphone 12 64gb - roxo - estou zerado', '3059.10', 'https://www.google.com.br/shopping/product/1409198851555036304?hl=pt-BR&psb=1&q=iphone+12+64gb&oq=iphone+12+64gb&gs_lcp=Cgtwcm9kdWN0cy1jYxAMUA1YKGBRaAFwAHgAgAEAiAEAkgEAmAEAoAEBsAEA&sclient=products-cc&prds=eto:14066938966366365827_0,pid:5070126177312031027&sa=X&ved=0ahUKEwj1197MjMP-AhVAHbkGHSMABAUQ8gII7AwoAA'), ('iphone 12 64gb - preto - estou zerado', '3059.10', 'https://www.google.com.br/shopping/product/925660058154905741?hl=pt-BR&psb=1&q=iphone+12+64gb&oq=iphone+12+64gb&gs_lcp=Cgtwcm9kdWN0cy1jYxAMUA1YKGBRaAFwAHgAgAEAiAEAkgEAmAEAoAEBsAEA&sclient=products-cc&prds=eto:3327467532283076065_0,pid:17698061794397978400&sa=X&ved=0ahUKEwj1197MjMP-AhVAHbkGHSMABAUQ8gII_AwoAA'), ('usado: iphone 12 64gb preto bom - trocafone', '3209.00', 'https://www.carrefour.com.br/usado-iphone-12-64gb-preto-bom-trocafone-mp930839701/p&rct=j&q=&esrc=s&sa=U&ved=0ahUKEwj1197MjMP-AhVAHbkGHSMABAUQ1SkIjA0oAA&usg=AOvVaw2NTrTimYILnvB2spcFAYH2'), ('iphone 12 64gb roxo - swap', '3098.00', 'https://www.malibushop.com.br/iphones-semi-novos/iphones-swap/iphone-12-64gb-roxo-swap%3Fparceiro%3D1538%26srsltid%3DAfAwrE43ggiPtJ7jmD81SnOOodxkCskTq6PTbOQOFwJLXeEAKALdOzWK-eU&rct=j&q=&esrc=s&sa=U&ved=0ahUKEwj1197MjMP-AhVAHbkGHSMABAUQ1SkIoQ4oAA&usg=AOvVaw3Mfjs6gxup9YxGkCgx2XkH'), ('(seminovo) iphone 12 apple preto 64gb', '3144.15', 'https://www.taqi.com.br/seminovo-usado-apple-iphone-12-preto-nacional/221635%3Fsrsltid%3DAfAwrE7qrUPOB1GTFNnc6fPuJj_5LHRmKYnYPrI4GlYl-G7Orhnu-l52YoE&rct=j&q=&esrc=s&sa=U&ved=0ahUKEwj1197MjMP-AhVAHbkGHSMABAUQ1SkIzw4oAA&usg=AOvVaw1ercPkTqiOGd7clwoOuNLo'), ('iphone 12 64gb preto - swap', '3098.00', 'https://www.malibushop.com.br/iphones-semi-novos/iphones-swap/iphone-12-64gb-preto-swap%3Fparceiro%3D1538%26srsltid%3DAfAwrE4IzA_EJTaOX2yZgSv2UnW0RLF-K5ot618sVPAN1Mp6xzQn4n-WT_A&rct=j&q=&esrc=s&sa=U&ved=0ahUKEwj1197MjMP-AhVAHbkGHSMABAUQ1SkInBAoAA&usg=AOvVaw1iUeYwvQhkIy7pS2jAayP9'), ('(seminovo) iphone 12 apple azul 64gb', '3144.15', 'https://www.taqi.com.br/seminovo-iphone12-apple-azul64gb-nacional/220673%3Fsrsltid%3DAfAwrE6ExpM8lsAjFJgv9aONXFCPSuuwd7arTYJmtOn32YdVJoMbdT6Jr6Q&rct=j&q=&esrc=s&sa=U&ved=0ahUKEwj1197MjMP-AhVAHbkGHSMABAUQ1SkI1hEoAA&usg=AOvVaw35ajWdXE5GHQTBF54Tp_WW'), ('(seminovo) iphone 12 apple verde 64gb', '3144.15', 'https://www.taqi.com.br/seminovo-apple-iphone-12-64gb-verde-taqi/222821%3Fsrsltid%3DAfAwrE75cu3aPeSPkvryy2bjgCrRi4Ufw-fElo9lqHpIBER3i1yXX5v8yFg&rct=j&q=&esrc=s&sa=U&ved=0ahUKEwj1197MjMP-AhVAHbkGHSMABAUQ1SkIrBMoAA&usg=AOvVaw1M6oVscLjd86Lde7Xu4KpR'), ('(seminovo) iphone 12 apple branco 64gb', '3144.15', 'https://www.taqi.com.br/seminovo-apple-iphone12-64gb-internacional-taqi/222815%3Fsrsltid%3DAfAwrE6_SnFBKzfxvQS7_qiWe14ksuA8fm7eIp79ajST2CQ1pp0tdLI2kD4&rct=j&q=&esrc=s&sa=U&ved=0ahUKEwi44sTRjMP-AhXaA7kGHZIJAD84PBDVKQjPDSgA&usg=AOvVaw1xUAA6k5glGUDBkrBRF2GZ'), ('(seminovo) iphone 12 apple (product)red  64gb', '3144.15', 'https://www.taqi.com.br/seminovo-apple-iphone-12-64gb-productred/221656%3Fsrsltid%3DAfAwrE4_gAUW9kQZ6YZtEyxosTrZHnUQiuSROrRGKU9KkYPT5IoUnFNFkgo&rct=j&q=&esrc=s&sa=U&ved=0ahUKEwi44sTRjMP-AhXaA7kGHZIJAD84PBDVKQi-DygA&usg=AOvVaw3kjG0jNowgWmCVCur4PRSx'), ('iphone xr 64gb branco com tela de 61 4g e câmera de 12 mp - mh6n3br/a', '3059.15', 'https://www.google.com.br/shopping/product/7578846592293227918?q=iphone+12+64gb&hl=pt-BR&psb=1&biw=1034&bih=707&dpr=1&prds=eto:419100260293419769_0,pid:12290781261691180637,rsk:PC_15653290272112071452&sa=X&ved=0ahUKEwi_p-3TjMP-AhWGIbkGHSeIDPM4eBDyAgjgCygA'), ('iphone 12 64gb azul - swap', '3098.00', 'https://www.malibushop.com.br/iphones-semi-novos/iphones-swap/iphone-12-64gb-azul-swap%3Fparceiro%3D1538%26srsltid%3DAfAwrE6JPF0oBVa26g0s-wE8OVc0P5LqkB0asmz1tIU5iz93HxMWW5m5NnU&rct=j&q=&esrc=s&sa=U&ved=0ahUKEwi_p-3TjMP-AhWGIbkGHSeIDPM4eBDVKQiADCgA&usg=AOvVaw1oLBaJgDSsJiULL5NcRKDD'), ('iphone 12 64gb branco - swap', '3098.00', 'https://www.malibushop.com.br/iphones-semi-novos/iphones-swap/iphone-12-64gb-branco-swap%3Fparceiro%3D1538%26srsltid%3DAfAwrE4LQfZxc_2Q3W9YkKXzEzwYtl7Il9IHI_YeWkrxoBtTBETw3wmX6J0&rct=j&q=&esrc=s&sa=U&ved=0ahUKEwjI7ITWjMP-AhV7O7kGHWGEASM4tAEQ1SkIugwoAA&usg=AOvVaw2n-E3NoKL6GaMusshV1uSG'), ('apple iphone 12 64gb azul vitrine 10x /juros', '3499.20', 'https://produto.mercadolivre.com.br/MLB-3460983776-apple-iphone-12-64gb-azul-vitrine-10x-juros-_JM%3Fmatt_tool%3D18956390%26utm_source%3Dgoogle_shopping%26utm_medium%3Dorganic&rct=j&q=&esrc=s&sa=U&ved=0ahUKEwi7x6zYjMP-AhUrLrkGHSUTCb448AEQ1SkI4w0oAA&usg=AOvVaw3NaBJnCJk07eJZag_-MPmA')]\n"
     ]
    }
   ],
   "source": [
    "lista_ofertas_google = []\n",
    "\n",
    "while True:\n",
    "    #Esperar até que os resultados da pesquisa estejam disponíveis na página\n",
    "    WebDriverWait(navegador, 10).until(EC.presence_of_element_located((By.CLASS_NAME, 'sh-dgr__content')))\n",
    "    time.sleep(1)\n",
    "    \n",
    "    #Pegar todos os produtos da página:\n",
    "    lista_produtos = navegador.find_elements(By.CLASS_NAME, 'sh-dgr__content')\n",
    "    \n",
    "    for produto in lista_produtos:\n",
    "        #Obter os dados dos produtos:\n",
    "        nome_produto = produto.find_element(By.TAG_NAME, 'h3').text.lower().replace(',','')\n",
    "        preco_produto = produto.find_element(By.CLASS_NAME, 'a8Pemb').text.replace(' ', '').replace('R$', '').replace('.', '').replace(',', '.')\n",
    "        \n",
    "        #Filtrar pelos dados da busca:\n",
    "        lista_termos_produto = produtos_df.loc[0, 'Nome'].lower().split(\" \")\n",
    "        lista_termos_banidos = produtos_df.loc[0, 'Termos banidos'].lower().split(\" \")\n",
    "\n",
    "        termo_prod_correto = all(termo in nome_produto for termo in lista_termos_produto)\n",
    "        if 'iphone 11' in nome_produto:\n",
    "            termo_prod_correto = False\n",
    "        termo_banido_encontrado = any(termo in nome_produto for termo in lista_termos_banidos)\n",
    "\n",
    "        if termo_prod_correto and not termo_banido_encontrado:\n",
    "            if preco_minimo <= float(preco_produto) <= preco_maximo:\n",
    "                link_produto = produto.find_element(By.TAG_NAME, 'a').get_attribute('href')\n",
    "                link_produto = link_produto.replace('https://www.google.com.br/url?url=', '')\n",
    "                lista_ofertas_google.append((nome_produto, preco_produto, link_produto))\n",
    "    try:\n",
    "        # Tentar clicar no botão \"Mais\"\n",
    "        proxima_pag = navegador.find_element(By.LINK_TEXT, 'Mais')\n",
    "        proxima_pag.click()\n",
    "    except:\n",
    "        # Caso não haja mais botão \"Mais\", encerrar o loop\n",
    "        print('Todas as páginas percorridas')\n",
    "        break\n",
    "\n",
    "print(lista_ofertas_google)"
   ]
  },
  {
   "cell_type": "code",
   "execution_count": 13,
   "metadata": {},
   "outputs": [
    {
     "name": "stdout",
     "output_type": "stream",
     "text": [
      "Todas as páginas percorridas\n",
      "[('smartphone apple iphone 12 64gb câmera dupla', '3252.00', 'https://www.buscape.com.br/celular/smartphone-apple-iphone-12-64gb-ios?_lc=88&searchterm=iphone%2012%2064gb')]\n"
     ]
    }
   ],
   "source": [
    "navegador.get(\"https://www.buscape.com.br/\")\n",
    "\n",
    "lista_ofertas_buscape = []\n",
    "\n",
    "while True:\n",
    "    #Buscar o produto:\n",
    "    navegador.find_element(By.XPATH, '//*[@id=\"new-header\"]/div[1]/div/div/div[3]/div/div/div[2]/div/div[1]/input').send_keys(produtos_df.loc[0, 'Nome'])\n",
    "    navegador.find_element(By.CLASS_NAME, 'AutoCompleteStyle_SearchIconWrapper__Knh_x').click()\n",
    "\n",
    "    #Esperar até que os resultados da pesquisa estejam disponíveis na página:\n",
    "    elemento = WebDriverWait(navegador, 10).until(EC.presence_of_element_located((By.CLASS_NAME, 'SearchCard_ProductCard_Inner__7JhKb')))\n",
    "    time.sleep(1)\n",
    "\n",
    "    #Pegar todos os produtos da página:\n",
    "    lista_produtos = navegador.find_elements(By.CLASS_NAME, 'SearchCard_ProductCard_Inner__7JhKb')\n",
    "\n",
    "    for produto in lista_produtos:\n",
    "        #Obter os dados dos produtos:\n",
    "        nome_produto = produto.find_element(By.TAG_NAME, 'h2').text.lower().replace(',','')\n",
    "        preco_produto = produto.find_element(By.TAG_NAME, 'p').text.replace(' ', '').replace('R$', '').replace('.', '').replace(',', '.')\n",
    "\n",
    "        #Filtrar pelos dados da busca:\n",
    "        lista_termos_produto = produtos_df.loc[0, 'Nome'].lower().split(\" \")\n",
    "        lista_termos_banidos = produtos_df.loc[0, 'Termos banidos'].lower().split(\" \")\n",
    "\n",
    "        termo_prod_correto = all(termo in nome_produto for termo in lista_termos_produto)\n",
    "        termo_banido_encontrado = any(termo in nome_produto for termo in lista_termos_banidos)\n",
    "\n",
    "        if termo_prod_correto and not termo_banido_encontrado:\n",
    "            if preco_minimo <= float(preco_produto) <= preco_maximo:\n",
    "                link_produto = produto.get_attribute('href')\n",
    "                lista_ofertas_buscape.append((nome_produto, preco_produto, link_produto))\n",
    "    \n",
    "    try:\n",
    "        #Localizar e tentar clicar no botão próxima página:\n",
    "        lista_paginas = navegador.find_element(By.CLASS_NAME, 'Paginator_paginator__j178K')\n",
    "        paginas = lista_paginas.find_elements(By.TAG_NAME, 'li')\n",
    "        proxima_pag = paginas[-1]\n",
    "        proxima_pag.click()\n",
    "        \n",
    "    except:\n",
    "        #Caso não haja mais o botão, encerrar o loop:\n",
    "        print('Todas as páginas percorridas')\n",
    "        break\n",
    "print(lista_ofertas_buscape)"
   ]
  }
 ],
 "metadata": {
  "kernelspec": {
   "display_name": "base",
   "language": "python",
   "name": "python3"
  },
  "language_info": {
   "codemirror_mode": {
    "name": "ipython",
    "version": 3
   },
   "file_extension": ".py",
   "mimetype": "text/x-python",
   "name": "python",
   "nbconvert_exporter": "python",
   "pygments_lexer": "ipython3",
   "version": "3.9.13"
  },
  "orig_nbformat": 4
 },
 "nbformat": 4,
 "nbformat_minor": 2
}
