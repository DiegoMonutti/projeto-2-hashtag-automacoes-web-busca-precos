{
 "cells": [
  {
   "cell_type": "code",
   "execution_count": null,
   "metadata": {},
   "outputs": [],
   "source": [
    "import pandas as pd\n",
    "import time\n",
    "from selenium import webdriver\n",
    "from selenium.webdriver.chrome.service import Service\n",
    "from webdriver_manager.chrome import ChromeDriverManager\n",
    "from selenium.webdriver.common.by import By\n",
    "\n",
    "servico = Service(ChromeDriverManager().install())\n",
    "navegador = webdriver.Chrome(service=servico)"
   ]
  },
  {
   "cell_type": "code",
   "execution_count": null,
   "metadata": {},
   "outputs": [],
   "source": [
    "produtos_df = pd.read_excel(r'Base de Buscas\\buscas.xlsx')\n",
    "display(produtos_df)"
   ]
  },
  {
   "cell_type": "code",
   "execution_count": null,
   "metadata": {},
   "outputs": [],
   "source": [
    "#Tratar os valores da tabela:\n",
    "lista_termos_produto = produtos_df.loc[linha, 'Nome'].lower().split(\" \")\n",
    "lista_termos_banidos = produtos_df.loc[linha, 'Termos banidos'].lower().split(\" \")\n",
    "preco_minimo = float(produtos_df.loc[linha, 'Preço mínimo'])\n",
    "preco_maximo = float(produtos_df.loc[linha, 'Preço máximo'])"
   ]
  },
  {
   "cell_type": "code",
   "execution_count": null,
   "metadata": {},
   "outputs": [],
   "source": [
    "#Abrir o site do Google Shopping:\n",
    "navegador.get(\"https://shopping.google.com.br/\")"
   ]
  },
  {
   "cell_type": "code",
   "execution_count": null,
   "metadata": {},
   "outputs": [],
   "source": [
    "#Buscar o produto:\n",
    "navegador.find_element(By.ID, 'REsRA').send_keys(produtos_df.loc[0, 'Nome'])\n",
    "navegador.find_element(By.CLASS_NAME, 'uDgUL').click()"
   ]
  },
  {
   "cell_type": "code",
   "execution_count": null,
   "metadata": {},
   "outputs": [],
   "source": [
    "#Pegar todos os produtos da página:\n",
    "lista_produtos = navegador.find_elements(By.CLASS_NAME, 'sh-dgr__content')\n",
    "\n",
    "for produto in lista_produtos:\n",
    "    #Obter os dados dos produtos:\n",
    "    nome_produto = produto.find_element(By.TAG_NAME, 'h3').text\n",
    "    preco_produto = produto.find_element(By.CLASS_NAME, 'kHxwFf').text.split(\" \")\n",
    "    preco_produto = preco_produto[1].replace('\\nR$', '').replace('.', '').replace(',', '.')"
   ]
  }
 ],
 "metadata": {
  "kernelspec": {
   "display_name": "base",
   "language": "python",
   "name": "python3"
  },
  "language_info": {
   "codemirror_mode": {
    "name": "ipython",
    "version": 3
   },
   "file_extension": ".py",
   "mimetype": "text/x-python",
   "name": "python",
   "nbconvert_exporter": "python",
   "pygments_lexer": "ipython3",
   "version": "3.9.13"
  },
  "orig_nbformat": 4
 },
 "nbformat": 4,
 "nbformat_minor": 2
}
