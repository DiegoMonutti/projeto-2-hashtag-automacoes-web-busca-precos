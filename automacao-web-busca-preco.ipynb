{
 "cells": [
  {
   "cell_type": "code",
   "execution_count": 1,
   "metadata": {},
   "outputs": [],
   "source": [
    "import pandas as pd\n",
    "import time\n",
    "from selenium import webdriver\n",
    "from selenium.webdriver.chrome.service import Service\n",
    "from webdriver_manager.chrome import ChromeDriverManager\n",
    "from selenium.webdriver.common.by import By\n",
    "from selenium.webdriver.support.ui import WebDriverWait\n",
    "from selenium.webdriver.support import expected_conditions as EC\n",
    "\n",
    "servico = Service(ChromeDriverManager().install())\n",
    "navegador = webdriver.Chrome(service=servico)"
   ]
  },
  {
   "cell_type": "code",
   "execution_count": 2,
   "metadata": {},
   "outputs": [
    {
     "data": {
      "text/html": [
       "<div>\n",
       "<style scoped>\n",
       "    .dataframe tbody tr th:only-of-type {\n",
       "        vertical-align: middle;\n",
       "    }\n",
       "\n",
       "    .dataframe tbody tr th {\n",
       "        vertical-align: top;\n",
       "    }\n",
       "\n",
       "    .dataframe thead th {\n",
       "        text-align: right;\n",
       "    }\n",
       "</style>\n",
       "<table border=\"1\" class=\"dataframe\">\n",
       "  <thead>\n",
       "    <tr style=\"text-align: right;\">\n",
       "      <th></th>\n",
       "      <th>Nome</th>\n",
       "      <th>Termos banidos</th>\n",
       "      <th>Preço mínimo</th>\n",
       "      <th>Preço máximo</th>\n",
       "    </tr>\n",
       "  </thead>\n",
       "  <tbody>\n",
       "    <tr>\n",
       "      <th>0</th>\n",
       "      <td>iphone 12 64gb</td>\n",
       "      <td>mini watch</td>\n",
       "      <td>3000</td>\n",
       "      <td>3500</td>\n",
       "    </tr>\n",
       "    <tr>\n",
       "      <th>1</th>\n",
       "      <td>rtx 3060</td>\n",
       "      <td>zota galax</td>\n",
       "      <td>4000</td>\n",
       "      <td>4500</td>\n",
       "    </tr>\n",
       "  </tbody>\n",
       "</table>\n",
       "</div>"
      ],
      "text/plain": [
       "             Nome Termos banidos  Preço mínimo  Preço máximo\n",
       "0  iphone 12 64gb     mini watch          3000          3500\n",
       "1        rtx 3060     zota galax          4000          4500"
      ]
     },
     "metadata": {},
     "output_type": "display_data"
    }
   ],
   "source": [
    "#Carregar a tabela de buscas de produtos:\n",
    "produtos_df = pd.read_excel(r'Base de Buscas\\buscas.xlsx')\n",
    "display(produtos_df)"
   ]
  },
  {
   "cell_type": "code",
   "execution_count": 3,
   "metadata": {},
   "outputs": [],
   "source": [
    "#Abrir o site do Google Shopping:\n",
    "navegador.get(\"https://shopping.google.com.br/\")"
   ]
  },
  {
   "cell_type": "code",
   "execution_count": 4,
   "metadata": {},
   "outputs": [],
   "source": [
    "#Buscar o produto:\n",
    "navegador.find_element(By.ID, 'REsRA').send_keys(produtos_df.loc[0, 'Nome'])\n",
    "navegador.find_element(By.CLASS_NAME, 'uDgUL').click()"
   ]
  },
  {
   "cell_type": "code",
   "execution_count": 5,
   "metadata": {},
   "outputs": [],
   "source": [
    "preco_minimo = float(produtos_df.loc[0, 'Preço mínimo'])\n",
    "preco_maximo = float(produtos_df.loc[0, 'Preço máximo'])"
   ]
  },
  {
   "cell_type": "code",
   "execution_count": 6,
   "metadata": {},
   "outputs": [
    {
     "name": "stdout",
     "output_type": "stream",
     "text": [
      "Todas as páginas percorridas\n",
      "[('vitrine: iphone 12 apple 64gb roxo tela 61 câmera traseira 12mp ios', '3286.05', 'https://www.carrefour.com.br/vitrine-iphone-12-apple-64gb-roxo-tela-61-camera-traseira-12mp-ios-mp932337971/p&rct=j&q=&esrc=s&sa=U&ved=0ahUKEwjxkLLZ8cL-AhUnrZUCHa0tDIcQ1SkI0AwoAA&usg=AOvVaw28NCOTzMh7If1P_ALVz8sO'), ('iphone 12 64gb - azul - estou zerado', '3059.10', 'https://www.google.com.br/shopping/product/357344828079836893?hl=pt-BR&psb=1&q=iphone+12+64gb&oq=iphone+12+64gb&gs_lcp=Cgtwcm9kdWN0cy1jYxAMUA1YJGBGaABwAHgAgAEAiAEAkgEAmAEAoAEBsAEA&sclient=products-cc&prds=eto:10360267435465518254_0,pid:4387230182954649532,rsk:PC_11630641001267601036&sa=X&ved=0ahUKEwjxkLLZ8cL-AhUnrZUCHa0tDIcQ8gII4AwoAA'), ('vitrine: iphone 12 apple 64gb azul tela 61 câmera traseira dupla 12mp', '3286.05', 'https://www.google.com.br/shopping/product/17015131505985528838?hl=pt-BR&psb=1&q=iphone+12+64gb&oq=iphone+12+64gb&gs_lcp=Cgtwcm9kdWN0cy1jYxAMUA1YJGBGaABwAHgAgAEAiAEAkgEAmAEAoAEBsAEA&sclient=products-cc&prds=eto:13243968373558901859_0,pid:16143677003117765046,rsk:PC_14074616196041694734&sa=X&ved=0ahUKEwjxkLLZ8cL-AhUnrZUCHa0tDIcQ8gII8wwoAA'), ('iphone 12 64gb - roxo - estou zerado', '3059.10', 'https://www.google.com.br/shopping/product/1409198851555036304?hl=pt-BR&psb=1&q=iphone+12+64gb&oq=iphone+12+64gb&gs_lcp=Cgtwcm9kdWN0cy1jYxAMUA1YJGBGaABwAHgAgAEAiAEAkgEAmAEAoAEBsAEA&sclient=products-cc&prds=eto:14066938966366365827_0,pid:5070126177312031027&sa=X&ved=0ahUKEwjxkLLZ8cL-AhUnrZUCHa0tDIcQ8gIIhA0oAA'), ('usado: iphone 12 64gb preto bom - trocafone', '3209.00', 'https://www.carrefour.com.br/usado-iphone-12-64gb-preto-bom-trocafone-mp930839701/p&rct=j&q=&esrc=s&sa=U&ved=0ahUKEwjxkLLZ8cL-AhUnrZUCHa0tDIcQ1SkIlA0oAA&usg=AOvVaw3mLmuCSQvpMR2mrhVazMkX'), ('iphone 12 64gb - preto - estou zerado', '3059.10', 'https://www.google.com.br/shopping/product/925660058154905741?hl=pt-BR&psb=1&q=iphone+12+64gb&oq=iphone+12+64gb&gs_lcp=Cgtwcm9kdWN0cy1jYxAMUA1YJGBGaABwAHgAgAEAiAEAkgEAmAEAoAEBsAEA&sclient=products-cc&prds=eto:3327467532283076065_0,pid:17698061794397978400&sa=X&ved=0ahUKEwjxkLLZ8cL-AhUnrZUCHa0tDIcQ8gIIpA0oAA'), ('iphone 12 64gb roxo - swap', '3098.00', 'https://www.malibushop.com.br/iphones-semi-novos/iphones-swap/iphone-12-64gb-roxo-swap%3Fparceiro%3D1538%26srsltid%3DAfAwrE51y1J7E0N6MZsESYcqsv7CzD61Pe7DrauRLvI1wu2SZu8mpHWRMow&rct=j&q=&esrc=s&sa=U&ved=0ahUKEwjxkLLZ8cL-AhUnrZUCHa0tDIcQ1SkIqw4oAA&usg=AOvVaw1lpjK7WGNh_Znv5aBwvkX7'), ('(seminovo) iphone 12 apple preto 64gb', '3144.15', 'https://www.taqi.com.br/seminovo-iphone12-64gbpreto-internacional/220672%3Fsrsltid%3DAfAwrE4jGSUkGMmVlOUxrfNNZmwGCMImQYXb_8ge4xLcWoPIAGP9V8LJJIA&rct=j&q=&esrc=s&sa=U&ved=0ahUKEwjxkLLZ8cL-AhUnrZUCHa0tDIcQ1SkIug4oAA&usg=AOvVaw1N5BApKsAT6tkt6YL0eoAi'), ('iphone 12 64gb preto - swap', '3098.00', 'https://www.malibushop.com.br/iphones-semi-novos/iphones-swap/iphone-12-64gb-preto-swap%3Fparceiro%3D1538%26srsltid%3DAfAwrE6lLEAxbTK8gTeoGqgsQV2NkXejWgFMLMqBYY53f8mIKmmGVbzOmAo&rct=j&q=&esrc=s&sa=U&ved=0ahUKEwjxkLLZ8cL-AhUnrZUCHa0tDIcQ1SkI9w8oAA&usg=AOvVaw3SY9RRP23hgfvlFSJeuaER'), ('(seminovo) iphone 12 apple azul 64gb', '3144.15', 'https://www.taqi.com.br/seminovo-iphone12-apple-azul64gb-nacional/220673%3Fsrsltid%3DAfAwrE45l3lCByfvXF8S1oSL1a41u7XjCpcwRPemZbIzRAuS-S924RnCUw0&rct=j&q=&esrc=s&sa=U&ved=0ahUKEwjxkLLZ8cL-AhUnrZUCHa0tDIcQ1SkI_hEoAA&usg=AOvVaw2cjXCI5A54bcDk8BJV5eT2'), ('(seminovo) iphone 12 apple verde 64gb', '3144.15', 'https://www.taqi.com.br/seminovo-apple-iphone-12-64gb-verde-taqi/222821%3Fsrsltid%3DAfAwrE5ajY4C47JqKX_EURjlmzhEDQzYkSbZFdQg3ZL4o1mo5qyW6_VBjHk&rct=j&q=&esrc=s&sa=U&ved=0ahUKEwjxkLLZ8cL-AhUnrZUCHa0tDIcQ1SkIxxMoAA&usg=AOvVaw1IbWlJM7BhvWOABoXuu1Ve'), ('(seminovo) iphone 12 apple branco 64gb', '3144.15', 'https://www.taqi.com.br/seminovo-apple-iphone12-64gb-internacional-taqi/222815%3Fsrsltid%3DAfAwrE5ET6ex0CAyMGoLNC7aB_nkxlQCEax37GcniTw66pVuR3SA2kqVyVU&rct=j&q=&esrc=s&sa=U&ved=0ahUKEwjwqtrb8cL-AhXWpZUCHU3TCrA4PBDVKQj_DSgA&usg=AOvVaw3eamEYUJEDqCeNCQMPVmLT'), ('(seminovo) iphone 12 apple (product)red  64gb', '3144.15', 'https://www.taqi.com.br/seminovo-apple-iphone-12-64gb-productred/221656%3Fsrsltid%3DAfAwrE59mwAtFqtaAHtX3Dfb2I85wyEloLCTj_d9zGqyHeBwxCsL6Xe6n7Q&rct=j&q=&esrc=s&sa=U&ved=0ahUKEwjwqtrb8cL-AhXWpZUCHU3TCrA4PBDVKQiVECgA&usg=AOvVaw0vJyh0o-YbQ6FWF0UOlxfo'), ('iphone xr 64gb branco com tela de 61 4g e câmera de 12 mp - mh6n3br/a', '3059.15', 'https://www.google.com.br/shopping/product/7578846592293227918?q=iphone+12+64gb&hl=pt-BR&psb=1&biw=1034&bih=707&prds=eto:419100260293419769_0,pid:12290781261691180637,rsk:PC_15653290272112071452&sa=X&ved=0ahUKEwjwqtrb8cL-AhXWpZUCHU3TCrA4PBDyAgjsECgA'), ('iphone 12 64gb azul - swap', '3098.00', 'https://www.malibushop.com.br/iphones-semi-novos/iphones-swap/iphone-12-64gb-azul-swap%3Fparceiro%3D1538%26srsltid%3DAfAwrE62QrME2St36PblDVuKGimAsqa_LQ03jJIhc6WZsqAb6Mf8M7sb4ZA&rct=j&q=&esrc=s&sa=U&ved=0ahUKEwjwqtrb8cL-AhXWpZUCHU3TCrA4PBDVKQiMESgA&usg=AOvVaw2XKDT6hhx9kknLv7PsUBx2'), ('iphone 12 64gb branco - swap', '3098.00', 'https://www.malibushop.com.br/iphones-semi-novos/iphones-swap/iphone-12-64gb-branco-swap%3Fparceiro%3D1538%26srsltid%3DAfAwrE79PlpfDtphyiPSgbAnVjUe4g9r2i4VT3FezAX6BXbA8uFw-5QBbs0&rct=j&q=&esrc=s&sa=U&ved=0ahUKEwi7qv_d8cL-AhXNpJUCHcrAATU4eBDVKQioDygA&usg=AOvVaw0YKWxE_LSGpJG6yMqFt0ox'), ('apple iphone 12 64gb azul vitrine 10x /juros', '3499.20', 'https://produto.mercadolivre.com.br/MLB-3460983776-apple-iphone-12-64gb-azul-vitrine-10x-juros-_JM%3Fmatt_tool%3D18956390%26utm_source%3Dgoogle_shopping%26utm_medium%3Dorganic&rct=j&q=&esrc=s&sa=U&ved=0ahUKEwjUqKPg8cL-AhV6pZUCHQ2oBec4tAEQ1SkIig4oAA&usg=AOvVaw1_9MRFLYZm9v6MxYDY3Sto')]\n"
     ]
    }
   ],
   "source": [
    "lista_ofertas_google = []\n",
    "\n",
    "while True:\n",
    "    # Aguardar a presença do elemento 'sh-dgr__content' antes de prosseguir:\n",
    "    WebDriverWait(navegador, 10).until(EC.presence_of_element_located((By.CLASS_NAME, 'sh-dgr__content')))\n",
    "    time.sleep(1)\n",
    "    \n",
    "    #Pegar todos os produtos da página:\n",
    "    lista_produtos = navegador.find_elements(By.CLASS_NAME, 'sh-dgr__content')\n",
    "    \n",
    "    for produto in lista_produtos:\n",
    "        #Obter os dados dos produtos:\n",
    "        nome_produto = produto.find_element(By.TAG_NAME, 'h3').text.lower().replace(',','')\n",
    "        preco_produto = produto.find_element(By.CLASS_NAME, 'a8Pemb').text.replace(' ', '').replace('R$', '').replace('.', '').replace(',', '.')\n",
    "        \n",
    "        #Filtrar pelos dados da busca:\n",
    "        lista_termos_produto = produtos_df.loc[0, 'Nome'].lower().split(\" \")\n",
    "        lista_termos_banidos = produtos_df.loc[0, 'Termos banidos'].lower().split(\" \")\n",
    "\n",
    "        termo_prod_correto = all(termo in nome_produto for termo in lista_termos_produto)\n",
    "        if 'iphone 11' in nome_produto:\n",
    "            termo_prod_correto = False\n",
    "        termo_banido_encontrado = any(termo in nome_produto for termo in lista_termos_banidos)\n",
    "\n",
    "        if termo_prod_correto and not termo_banido_encontrado:\n",
    "            if preco_minimo <= float(preco_produto) <= preco_maximo:\n",
    "                link_produto = produto.find_element(By.TAG_NAME, 'a').get_attribute('href')\n",
    "                link_produto = link_produto.replace('https://www.google.com.br/url?url=', '')\n",
    "                lista_ofertas_google.append((nome_produto, preco_produto, link_produto))\n",
    "    try:\n",
    "        # Tentar clicar no botão \"Mais\"\n",
    "        proxima_pag = navegador.find_element(By.LINK_TEXT, 'Mais')\n",
    "        proxima_pag.click()\n",
    "    except:\n",
    "        # Caso não haja mais botão \"Mais\", encerrar o loop\n",
    "        print('Todas as páginas percorridas')\n",
    "        break\n",
    "\n",
    "print(lista_ofertas_google)"
   ]
  }
 ],
 "metadata": {
  "kernelspec": {
   "display_name": "base",
   "language": "python",
   "name": "python3"
  },
  "language_info": {
   "codemirror_mode": {
    "name": "ipython",
    "version": 3
   },
   "file_extension": ".py",
   "mimetype": "text/x-python",
   "name": "python",
   "nbconvert_exporter": "python",
   "pygments_lexer": "ipython3",
   "version": "3.9.13"
  },
  "orig_nbformat": 4
 },
 "nbformat": 4,
 "nbformat_minor": 2
}
